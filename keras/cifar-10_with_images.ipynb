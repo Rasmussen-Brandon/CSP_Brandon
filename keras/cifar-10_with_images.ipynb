{
 "cells": [
  {
   "cell_type": "code",
   "execution_count": 121,
   "metadata": {},
   "outputs": [
    {
     "name": "stdout",
     "output_type": "stream",
     "text": [
      "(10000, 3, 32, 32)\n"
     ]
    },
    {
     "name": "stderr",
     "output_type": "stream",
     "text": [
      "/usr/local/lib/python2.7/dist-packages/ipykernel_launcher.py:42: DeprecationWarning: `imresize` is deprecated!\n",
      "`imresize` is deprecated in SciPy 1.0.0, and will be removed in 1.2.0.\n",
      "Use ``skimage.transform.resize`` instead.\n",
      "/usr/local/lib/python2.7/dist-packages/ipykernel_launcher.py:51: DeprecationWarning: `imresize` is deprecated!\n",
      "`imresize` is deprecated in SciPy 1.0.0, and will be removed in 1.2.0.\n",
      "Use ``skimage.transform.resize`` instead.\n"
     ]
    },
    {
     "name": "stdout",
     "output_type": "stream",
     "text": [
      "(10000, 3, 10, 10)\n",
      "(50000, 3, 10, 10)\n"
     ]
    }
   ],
   "source": [
    "import numpy as np\n",
    "import time\n",
    "import os\n",
    "import tensorflow as tf\n",
    "from keras import optimizers\n",
    "from keras.models import Sequential\n",
    "from keras.layers import Dense, Dropout, Activation, Flatten, Reshape, UpSampling1D, UpSampling2D, UpSampling3D\n",
    "from keras.layers import Conv2D, Conv1D, MaxPooling2D, BatchNormalization\n",
    "from keras.callbacks import TensorBoard\n",
    "from keras.utils import np_utils\n",
    "from keras.datasets import cifar10\n",
    "from keras import backend\n",
    "from scipy import misc\n",
    "from keras.models import model_from_json\n",
    "from skimage.transform import resize\n",
    "\n",
    "##Modify Parameters Here\n",
    "bands=3\n",
    "hr_img_size=(32,32)\n",
    "inpt_lr_img_size=(10,10)\n",
    "sptlvarmeasure=32\n",
    "\n",
    "\n",
    "\n",
    "\n",
    "\n",
    "\n",
    "\n",
    "\n",
    "backend.set_image_dim_ordering('th')\n",
    "# 4. Load pre-shuffled MNIST data into train and test sets\n",
    "(X_train, y_train), (X_test, y_test) = cifar10.load_data()\n",
    "y_train=X_train.copy()\n",
    "y_test=X_test.copy()\n",
    "print(X_test.shape)\n",
    "newximglist=[]\n",
    "newx2imglist=[]\n",
    "imagecounter=0\n",
    "for image in X_train:\n",
    "    preimage=np.swapaxes(image.copy(),0,2)\n",
    "    preimage=np.swapaxes(preimage,0,1)\n",
    "    newximage=misc.imresize(preimage, inpt_lr_img_size)\n",
    "    newximage=np.swapaxes(newximage,0,2)\n",
    "    newximage=np.swapaxes(newximage,1,2)\n",
    "    newximglist.append(newximage)\n",
    "    imagecounter+=1\n",
    "X_train=np.array(newximglist)\n",
    "for image in X_test:\n",
    "    preimage=np.swapaxes(image.copy(),0,2)\n",
    "    preimage=np.swapaxes(preimage,0,1)\n",
    "    newximage=misc.imresize(preimage, inpt_lr_img_size)\n",
    "    newximage=np.swapaxes(newximage,0,2)\n",
    "    newximage=np.swapaxes(newximage,1,2)\n",
    "    newx2imglist.append(newximage.copy())\n",
    "    imagecounter+=1\n",
    "X_test=np.array(newx2imglist)\n",
    "print(X_test.shape)\n",
    "print(X_train.shape)\n"
   ]
  },
  {
   "cell_type": "code",
   "execution_count": 122,
   "metadata": {},
   "outputs": [],
   "source": [
    "# 5. Preprocess input data\n",
    "X_train = X_train.reshape(len(X_train), bands, inpt_lr_img_size[0],inpt_lr_img_size[1])\n",
    "X_test = X_test.reshape(len(X_test), bands, inpt_lr_img_size[0],inpt_lr_img_size[1])\n",
    "X_train = X_train.astype('float32')\n",
    "X_test = X_test.astype('float32')[0:10] \n",
    "y_train = y_train.reshape(len(y_train), bands, hr_img_size[0],hr_img_size[1])\n",
    "y_test = y_test.reshape(len(y_test), bands, hr_img_size[0],hr_img_size[1])[0:10]\n",
    "y_train = y_train.astype('float32')\n",
    "y_test = y_test.astype('float32') \n",
    "X_train /= 255\n",
    "X_test /= 255\n",
    "y_train /= 255\n",
    "y_test /= 255\n",
    " \n",
    "# 7. Define model architecture\n",
    "model = Sequential()\n",
    "ilis=inpt_lr_img_size[0]\n",
    "model.add(Conv2D(filters=ilis*4/5, kernel_size=(2, 2), activation='relu', padding='valid', input_shape=(bands,ilis,ilis)))\n",
    "model.add(Conv2D(filters=ilis*4/5, kernel_size=(2, 2), activation='relu', padding='valid'))\n",
    "model.add(BatchNormalization())\n",
    "model.add(Dropout(0.1))\n",
    "\n",
    "model.add(Conv2D(filters=ilis*9/5, kernel_size=(2, 2), activation='relu'))\n",
    "model.add(Conv2D(filters=ilis*9/5, kernel_size=(2, 2), activation='relu'))\n",
    "model.add(BatchNormalization())\n",
    "model.add(Dropout(0.25))\n",
    "\n",
    "model.add(Conv2D(filters=ilis*16/5, kernel_size=(2, 2), activation='relu'))\n",
    "model.add(Conv2D(filters=ilis*16/5, kernel_size=(2, 2), activation='relu'))\n",
    "model.add(BatchNormalization())\n",
    "model.add(Dropout(0.35))\n",
    "\n",
    "model.add(Conv2D(filters=ilis*32/5, kernel_size=(1, 1), activation='relu'))\n",
    "model.add(Conv2D(filters=ilis*32/5, kernel_size=(1, 1), activation='relu'))\n",
    "model.add(BatchNormalization())\n",
    "model.add(MaxPooling2D(pool_size=(2,2)))\n",
    "model.add(Dropout(0.35))\n",
    "\n",
    "model.add(UpSampling2D((2,2)))\n",
    "model.add(Conv2D(filters=ilis*32/5, kernel_size=(1, 1), activation='relu'))\n",
    "model.add(BatchNormalization())\n",
    "model.add(Conv2D(filters=ilis*16/5, kernel_size=(2, 2), activation='relu'))\n",
    "model.add(BatchNormalization())\n",
    "\n",
    "model.add(UpSampling2D((11,11)))\n",
    "model.add(Conv2D(filters=ilis*9/5, kernel_size=(1, 1), activation='relu'))\n",
    "model.add(BatchNormalization())\n",
    "model.add(Conv2D(filters=ilis*6/20, kernel_size=(2, 2), activation='relu'))\n",
    "model.add(BatchNormalization())\n",
    "\n",
    "\n",
    "\n",
    "\n",
    "\n",
    "\n",
    " \n",
    "# model.add(Flatten())\n",
    "# model.add(Dense(sptlvarmeasure**2*4, activation='relu'))\n",
    "# model.add(Dropout(0.5))\n",
    "# model.add(Dense((sptlvarmeasure**2)*3, activation='softmax'))\n",
    "# model.add(Reshape((3,sptlvarmeasure,sptlvarmeasure)))\n",
    "\n",
    "# model.add(UpSampling1D(inpt_lr_img_size[0]))\n",
    "# model.add(Reshape((1,1,inpt_lr_img_size[0],sptlvarmeasure)))\n",
    "# model.add(UpSampling3D(bands))\n",
    "# model.add(Reshape((bands,inpt_lr_img_size[0]*bands,(sptlvarmeasure*bands))))\n",
    "\n",
    "\n",
    " \n",
    "# 8. Compile model\n",
    "opt = optimizers.Adam(lr=0.001, beta_1=0.9, beta_2=0.999, epsilon=1e-08, decay=0.0)\n",
    "model.compile(loss='cosine_proximity',\n",
    "              optimizer=opt,\n",
    "              metrics=['accuracy'])\n",
    "\n",
    "\n",
    "\n"
   ]
  },
  {
   "cell_type": "code",
   "execution_count": 118,
   "metadata": {
    "scrolled": true
   },
   "outputs": [
    {
     "name": "stdout",
     "output_type": "stream",
     "text": [
      "(50000, 3, 32, 32)\n",
      "_________________________________________________________________\n",
      "Layer (type)                 Output Shape              Param #   \n",
      "=================================================================\n",
      "conv2d_216 (Conv2D)          (None, 8, 9, 9)           104       \n",
      "_________________________________________________________________\n",
      "conv2d_217 (Conv2D)          (None, 8, 8, 8)           264       \n",
      "_________________________________________________________________\n",
      "batch_normalization_97 (Batc (None, 8, 8, 8)           32        \n",
      "_________________________________________________________________\n",
      "dropout_82 (Dropout)         (None, 8, 8, 8)           0         \n",
      "_________________________________________________________________\n",
      "conv2d_218 (Conv2D)          (None, 18, 7, 7)          594       \n",
      "_________________________________________________________________\n",
      "conv2d_219 (Conv2D)          (None, 18, 6, 6)          1314      \n",
      "_________________________________________________________________\n",
      "batch_normalization_98 (Batc (None, 18, 6, 6)          24        \n",
      "_________________________________________________________________\n",
      "dropout_83 (Dropout)         (None, 18, 6, 6)          0         \n",
      "_________________________________________________________________\n",
      "conv2d_220 (Conv2D)          (None, 32, 5, 5)          2336      \n",
      "_________________________________________________________________\n",
      "conv2d_221 (Conv2D)          (None, 32, 4, 4)          4128      \n",
      "_________________________________________________________________\n",
      "batch_normalization_99 (Batc (None, 32, 4, 4)          16        \n",
      "_________________________________________________________________\n",
      "dropout_84 (Dropout)         (None, 32, 4, 4)          0         \n",
      "_________________________________________________________________\n",
      "conv2d_222 (Conv2D)          (None, 64, 4, 4)          2112      \n",
      "_________________________________________________________________\n",
      "conv2d_223 (Conv2D)          (None, 64, 4, 4)          4160      \n",
      "_________________________________________________________________\n",
      "batch_normalization_100 (Bat (None, 64, 4, 4)          16        \n",
      "_________________________________________________________________\n",
      "max_pooling2d_27 (MaxPooling (None, 64, 2, 2)          0         \n",
      "_________________________________________________________________\n",
      "dropout_85 (Dropout)         (None, 64, 2, 2)          0         \n",
      "_________________________________________________________________\n",
      "up_sampling2d_26 (UpSampling (None, 64, 4, 4)          0         \n",
      "_________________________________________________________________\n",
      "conv2d_224 (Conv2D)          (None, 64, 4, 4)          4160      \n",
      "_________________________________________________________________\n",
      "batch_normalization_101 (Bat (None, 64, 4, 4)          16        \n",
      "_________________________________________________________________\n",
      "conv2d_225 (Conv2D)          (None, 32, 3, 3)          8224      \n",
      "_________________________________________________________________\n",
      "batch_normalization_102 (Bat (None, 32, 3, 3)          12        \n",
      "_________________________________________________________________\n",
      "up_sampling2d_27 (UpSampling (None, 32, 33, 33)        0         \n",
      "_________________________________________________________________\n",
      "conv2d_226 (Conv2D)          (None, 18, 33, 33)        594       \n",
      "_________________________________________________________________\n",
      "batch_normalization_103 (Bat (None, 18, 33, 33)        132       \n",
      "_________________________________________________________________\n",
      "conv2d_227 (Conv2D)          (None, 3, 32, 32)         219       \n",
      "_________________________________________________________________\n",
      "batch_normalization_104 (Bat (None, 3, 32, 32)         128       \n",
      "=================================================================\n",
      "Total params: 28,585\n",
      "Trainable params: 28,397\n",
      "Non-trainable params: 188\n",
      "_________________________________________________________________\n",
      "None\n"
     ]
    }
   ],
   "source": [
    "print(y_train.shape)\n",
    "print(model.summary())"
   ]
  },
  {
   "cell_type": "code",
   "execution_count": null,
   "metadata": {
    "scrolled": true
   },
   "outputs": [
    {
     "name": "stdout",
     "output_type": "stream",
     "text": [
      "Epoch 1/2\n",
      "27600/50000 [===============>..............] - ETA: 30s - loss: 52.2921 - acc: 0.0502"
     ]
    }
   ],
   "source": [
    "if os.path.isfile('model.json'):\n",
    "    json_file = open('model.json', 'r')\n",
    "    loaded_model_json = json_file.read()\n",
    "    json_file.close()\n",
    "    loaded_model = model_from_json(loaded_model_json)\n",
    "    # load weights into new model\n",
    "    loaded_model.load_weights(\"model.h5\")\n",
    "    print(\"Loaded model from disk\")\n",
    "init = tf.initialize_all_variables()\n",
    "sess = tf.Session()\n",
    "sess.run(init)\n",
    "tensorboard = TensorBoard(log_dir=os.getcwd()+'/logs'.format(time.time()))\n",
    "writer = tf.summary.FileWriter(os.getcwd()+'/logs').add_graph(sess.graph)\n",
    "try:\n",
    "  loaded_model.compile(loss='categorical_crossentropy',\n",
    "              optimizer=opt,\n",
    "              metrics=['accuracy'])\n",
    "  loaded_model.fit(X_train, y_train, \n",
    "              batch_size=16, nb_epoch=2, verbose=1, callbacks=[tensorboard])\n",
    "  model=loaded_model\n",
    "except (NameError, ValueError) as e:\n",
    "    model.fit(X_train, y_train, \n",
    "              batch_size=32, nb_epoch=2, verbose=1, callbacks=[tensorboard])\n",
    "model_json = model.to_json()\n",
    "with open(\"model.json\", \"w\") as json_file:\n",
    "    json_file.write(model_json)\n",
    "# serialize weights to HDF5\n",
    "model.save_weights(\"model.h5\")\n",
    "print(\"Saved model to disk\")\n",
    "\n",
    "\n"
   ]
  },
  {
   "cell_type": "code",
   "execution_count": 109,
   "metadata": {},
   "outputs": [
    {
     "name": "stdout",
     "output_type": "stream",
     "text": [
      "10/10 [==============================] - 1s 63ms/step\n",
      "[0.20810547471046448, 0.03437500074505806]\n"
     ]
    }
   ],
   "source": [
    "score = model.evaluate(X_test, y_test, verbose=1)\n",
    "class_scores= model.predict(X_test)\n",
    "print(score)"
   ]
  },
  {
   "cell_type": "code",
   "execution_count": 114,
   "metadata": {
    "scrolled": true
   },
   "outputs": [
    {
     "data": {
      "image/png": "[encoded data removed]",
      "text/plain": [
       "<matplotlib.figure.Figure at 0x7f6f2c1612d0>"
      ]
     },
     "metadata": {},
     "output_type": "display_data"
    }
   ],
   "source": [
    "import matplotlib.pyplot as plt\n",
    "classes=[]\n",
    "for image in class_scores:\n",
    "    thisclass=image\n",
    "    classes.append(thisclass)\n",
    "f, ax = plt.subplots(10,2, figsize=(20, 16))\n",
    "axind0=0\n",
    "axind1=0\n",
    "imagecounter=0\n",
    "for image in X_test:\n",
    "    axind0=imagecounter\n",
    "    emptyximage=np.zeros((10,10,3))\n",
    "    emptyyimage=np.zeros((32,32,3))\n",
    "    for band in range(1,4):\n",
    "        newximage=image[band-1:band,0:10,0:10]\n",
    "        newyimage=classes[imagecounter][band-1:band,:,:]\n",
    "        emptyximage[:,:,band-1:band]=newximage.reshape((10,10,1))*(1/np.max(newximage))\n",
    "        emptyyimage[:,:,band-1:band]=newyimage.reshape((32,32,1))*(1/np.max(newyimage))\n",
    "    imagecounter+=1\n",
    "    ax[axind0,0].imshow(emptyximage)\n",
    "    ax[axind0,1].imshow(emptyyimage)\n",
    "    \n",
    "    \n",
    "    \n",
    "    "
   ]
  },
  {
   "cell_type": "code",
   "execution_count": null,
   "metadata": {},
   "outputs": [],
   "source": []
  }
 ],
 "metadata": {
  "kernelspec": {
   "display_name": "Python 2",
   "language": "python",
   "name": "python2"
  },
  "language_info": {
   "codemirror_mode": {
    "name": "ipython",
    "version": 2
   },
   "file_extension": ".py",
   "mimetype": "text/x-python",
   "name": "python",
   "nbconvert_exporter": "python",
   "pygments_lexer": "ipython2",
   "version": "2.7.12"
  }
 },
 "nbformat": 4,
 "nbformat_minor": 2
}
